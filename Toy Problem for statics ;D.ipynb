{
 "cells": [
  {
   "cell_type": "markdown",
   "metadata": {},
   "source": [
    "\n",
    "we are going to compute the probablity for the following problem :\n",
    "we have 700 random variables and we have the probablity for each random variable and we want to \n",
    "compute the probabilty for the S > = 800 such as \\begin{equation*} S = \\sum_{i=1}^{700} x_i \\end{equation*} \n",
    "it's a toy problem for the SBU Statics class of 2018 :D made by yours truly Pooria Poorsarvi <br>\n",
    "refrences :<br>\n",
    "[wikipedia (Persian)](https://fa.wikipedia.org/wiki/%D8%AA%D9%88%D8%B2%DB%8C%D8%B9_%DA%86%D9%86%D8%AF%D8%AC%D9%85%D9%84%D9%87%E2%80%8C%D8%A7%DB%8C)\n",
    "<br>\n",
    "[wikipedia (English)](https://en.wikipedia.org/wiki/Multinomial_distribution)\n"
   ]
  },
  {
   "cell_type": "code",
   "execution_count": 2,
   "metadata": {},
   "outputs": [],
   "source": [
    "import numpy as np\n",
    "from mpmath import mpf, mpc, mp\n",
    "from itertools import permutations\n",
    "class RandomVariable:\n",
    "    def __init__(self,_domain,_p,withInit=False):\n",
    "        self.domain = _domain\n",
    "        self.p = [mpf(i) for i in _p]\n",
    "        self.value = None\n",
    "        if(withInit):\n",
    "            self.value = np.random.choice(self.domain,p=self.p)            \n",
    "    def assignValue(self):\n",
    "        self.value = np.random.choice(self.domain,p=self.p)"
   ]
  },
  {
   "cell_type": "code",
   "execution_count": 3,
   "metadata": {},
   "outputs": [],
   "source": [
    "rv = RandomVariable([-1,0,2],[1/4,1/2,1/4])"
   ]
  },
  {
   "cell_type": "code",
   "execution_count": 4,
   "metadata": {},
   "outputs": [
    {
     "name": "stdout",
     "output_type": "stream",
     "text": [
      "-1\n",
      "0\n",
      "0\n",
      "-1\n",
      "2\n",
      "-1\n",
      "2\n",
      "0\n",
      "-1\n",
      "-1\n",
      "0\n",
      "0\n",
      "-1\n",
      "-1\n",
      "0\n",
      "-1\n",
      "0\n",
      "-1\n",
      "-1\n",
      "-1\n"
     ]
    }
   ],
   "source": [
    "for i in range(20) :\n",
    "    rv.assignValue()\n",
    "    print(rv.value)"
   ]
  },
  {
   "cell_type": "code",
   "execution_count": 5,
   "metadata": {},
   "outputs": [],
   "source": [
    "class Computations:\n",
    "    def __init__(self, _upBound=701):\n",
    "        self.facts = [1]\n",
    "        self.upBound = _upBound\n",
    "        for i in range(1,_upBound):\n",
    "            self.facts.append((self.facts[-1]*i))\n",
    "    \n",
    "    def choice(self, n, x):\n",
    "        if(n<x):\n",
    "            return 0\n",
    "        \n",
    "        if(n>=self.upBound):\n",
    "            raise ArithmeticError(\"the required factorial was higher then the _upBound\")\n",
    "        \n",
    "        return (self.facts[n]/(self.facts[x]*self.facts[n-x]))\n",
    "    \n",
    "    "
   ]
  },
  {
   "cell_type": "code",
   "execution_count": 6,
   "metadata": {},
   "outputs": [],
   "source": [
    "c = Computations()"
   ]
  },
  {
   "cell_type": "markdown",
   "metadata": {},
   "source": [
    "first we will try to use Diophantine equation and Multinomial distribution :D"
   ]
  },
  {
   "cell_type": "code",
   "execution_count": 7,
   "metadata": {},
   "outputs": [],
   "source": [
    "class Population:\n",
    "    def __init__(self, _domain=None, _p=None, _randomVars=None,maxNum=701):\n",
    "        '''\n",
    "        you either give the domain and the probablity or you give the random variables :D\n",
    "        '''\n",
    "        self.domain = _domain\n",
    "        \n",
    "        if(_p is None):\n",
    "            self.p = _p\n",
    "        else :\n",
    "            self.p = [mpf(i) for i in _p]\n",
    "            \n",
    "        \n",
    "        self.randomVars = _randomVars\n",
    "        self.randomVarsInfo = None\n",
    "        \n",
    "        if(self.domain is None):\n",
    "            \n",
    "            if(type(self.randomVars) is list):\n",
    "                \n",
    "                if not (self.randomVars[0] is None):\n",
    "                    \n",
    "                    if not (self.randomVars[0][0] is None):\n",
    "                        \n",
    "                        self.domain = self.randomVars[0][0].domain\n",
    "                        self.p = self.randomVars[0][0].p\n",
    "                        self.makeCheck()\n",
    "                        \n",
    "                        \n",
    "                        \n",
    "        self.computer = Computations(_upBound=maxNum+1)\n",
    "        \n",
    "        if (self.domain is None):\n",
    "            raise ArithmeticError(\"we can't use empty sets sorry :(\")\n",
    "        \n",
    "        if not (sum(self.p) == 1.0):\n",
    "            raise ArithmeticError(\"the sum of probabilities should be equal to one\")\n",
    "        \n",
    "        if not (len(self.domain) is len(self.p)):\n",
    "            raise ArithmeticError(\"you should provide probablity for each class\")\n",
    "    \n",
    "    \n",
    "    \n",
    "    def makeCheck(self):\n",
    "        \n",
    "        '''\n",
    "        adds the info of each population to the randomVarsInfo\n",
    "        '''\n",
    "        \n",
    "        self.randomVarsInfo = []\n",
    "        \n",
    "        \n",
    "        for i in self.randomVars:\n",
    "            temp = dict(zip(self.domain, [0 for z in self.domain]))\n",
    "            for j in i :\n",
    "                temp[j.value]+=1\n",
    "            self.randomVarsInfo.append(temp)\n",
    "            \n",
    "            \n",
    "                \n",
    "    \n",
    "    def computeProb(self, howMuch):\n",
    "        '''\n",
    "        this parts uses Diophantine equation\n",
    "        how much contains how much we should use of each class , for example if domain is [0,1,2]\n",
    "        and howMuch is [10,2,4] then we have 10x0 and 2x1 and 4x2\n",
    "        take in considaration that the sum of the howMuch var is equal to the number of RandomVariables\n",
    "        '''\n",
    "        if not (len(self.domain) is len(howMuch)):\n",
    "            raise ArithmeticError(\"the provided array should have the same number of ints as the number of classes\")\n",
    "        overAllRemaining = sum(howMuch)\n",
    "        res = 1\n",
    "        counter = 0\n",
    "        stringRes = \"\"\n",
    "        for i in howMuch:\n",
    "            res *= self.computer.choice(overAllRemaining, i)*(self.p[counter]**i)\n",
    "            stringRes = stringRes + \"c( \"+str(overAllRemaining)+\" , \"+str(i)+\" ) * ( \"+str(self.p[counter])+\" ) ^ \"+str(i)\n",
    "            overAllRemaining -= i\n",
    "            counter += 1\n",
    "            if not (counter is len(howMuch)):\n",
    "                stringRes += \" * \"\n",
    "        return res,stringRes\n",
    "    \n",
    "    \n",
    "    \n",
    "    def generatePopulations(self, howManyPopulations, howManyPerEach):\n",
    "        \n",
    "        '''\n",
    "        genarate populations :D\n",
    "        '''\n",
    "        self.randomVars = []\n",
    "        \n",
    "        for i in range(howManyPopulations):\n",
    "            temp = []\n",
    "            for j in range(howManyPerEach):\n",
    "                temp.append(RandomVariable(self.domain, self.p, withInit=True))\n",
    "            self.randomVars.append(temp)\n",
    "        self.makeCheck()\n",
    "    \n",
    "    def printGenerations(self):\n",
    "        '''\n",
    "        generates the populations and stores theire info\n",
    "        '''\n",
    "        for i in self.randomVars:\n",
    "            temp = []\n",
    "            \n",
    "            for j in i :\n",
    "                temp.append(str(j.value))\n",
    "            \n",
    "            print(temp)\n",
    "            \n",
    "        for i in self.randomVarsInfo:\n",
    "            temp = []\n",
    "            for j in i :\n",
    "                temp.append(str(j)+\" \"+str(i[j]))\n",
    "            print(temp)\n",
    "    \n",
    "    def getProbGenerations(self, howMuch):\n",
    "        '''\n",
    "        generates a probability based on what it has seen\n",
    "        '''\n",
    "        whatWeWant = dict(zip(self.domain, howMuch))\n",
    "        res = 0\n",
    "        for i in self.randomVarsInfo:\n",
    "            if(i==whatWeWant):\n",
    "                res += 1\n",
    "        return res / len(self.randomVarsInfo)"
   ]
  },
  {
   "cell_type": "code",
   "execution_count": null,
   "metadata": {},
   "outputs": [],
   "source": []
  },
  {
   "cell_type": "code",
   "execution_count": null,
   "metadata": {},
   "outputs": [],
   "source": []
  },
  {
   "cell_type": "code",
   "execution_count": 8,
   "metadata": {},
   "outputs": [],
   "source": [
    "_domain = [-1, 0, 2]\n",
    "_p = [1/4, 1/8, 5/8]"
   ]
  },
  {
   "cell_type": "code",
   "execution_count": 9,
   "metadata": {},
   "outputs": [],
   "source": [
    "population = Population(_domain = _domain, _p = _p)"
   ]
  },
  {
   "cell_type": "code",
   "execution_count": 10,
   "metadata": {},
   "outputs": [],
   "source": [
    "res = 0\n",
    "sits = []\n",
    "howMany = 700\n",
    "sumExcpected = -700\n",
    "setSeen = set()\n",
    "for i in range(howMany+1):\n",
    "    for j in range(howMany+1-i):\n",
    "        z = howMany-i-j\n",
    "        perm = set(permutations([i,j,z]))\n",
    "        for per in perm:\n",
    "            resSum = 0\n",
    "            boolean = False\n",
    "            if(per in setSeen):\n",
    "                continue\n",
    "            setSeen.add(per)\n",
    "            for d in range(len(per)):\n",
    "                resSum += _domain[d]*per[d]\n",
    "            if(resSum>=sumExcpected):\n",
    "                boolean = True\n",
    "                resTemp,resStringTemp = population.computeProb(per)\n",
    "                res+=resTemp\n",
    "                sits.append(per)"
   ]
  },
  {
   "cell_type": "code",
   "execution_count": 11,
   "metadata": {},
   "outputs": [
    {
     "data": {
      "text/plain": [
       "mpf('0.99999999999999001')"
      ]
     },
     "execution_count": 11,
     "metadata": {},
     "output_type": "execute_result"
    }
   ],
   "source": [
    "res"
   ]
  },
  {
   "cell_type": "code",
   "execution_count": 12,
   "metadata": {},
   "outputs": [],
   "source": [
    "res = 0\n",
    "sits = []\n",
    "howMany = 700\n",
    "sumExcpected = 800\n",
    "setSeen = set()\n",
    "for i in range(howMany+1):\n",
    "    for j in range(howMany+1-i):\n",
    "        z = howMany-i-j\n",
    "        perm = set(permutations([i,j,z]))\n",
    "        for per in perm:\n",
    "            resSum = 0\n",
    "            boolean = False\n",
    "            if(per in setSeen):\n",
    "                continue\n",
    "            setSeen.add(per)\n",
    "            for d in range(len(per)):\n",
    "                resSum += _domain[d]*per[d]\n",
    "            if(resSum>=sumExcpected):\n",
    "                boolean = True\n",
    "                resTemp,resStringTemp = population.computeProb(per)\n",
    "                res+=resTemp\n",
    "                sits.append(per)"
   ]
  },
  {
   "cell_type": "code",
   "execution_count": 13,
   "metadata": {},
   "outputs": [
    {
     "data": {
      "text/plain": [
       "mpf('0.0020233744094019898')"
      ]
     },
     "execution_count": 13,
     "metadata": {},
     "output_type": "execute_result"
    }
   ],
   "source": [
    "res"
   ]
  },
  {
   "cell_type": "markdown",
   "metadata": {},
   "source": [
    "from here we will use simulation :D"
   ]
  },
  {
   "cell_type": "code",
   "execution_count": 14,
   "metadata": {},
   "outputs": [],
   "source": [
    "resSimul = 0 \n",
    "population.generatePopulations(1000,700)"
   ]
  },
  {
   "cell_type": "code",
   "execution_count": 15,
   "metadata": {},
   "outputs": [],
   "source": [
    "for i in sits :\n",
    "    resSimul+=population.getProbGenerations(i)"
   ]
  },
  {
   "cell_type": "code",
   "execution_count": 16,
   "metadata": {},
   "outputs": [
    {
     "data": {
      "text/plain": [
       "0.003"
      ]
     },
     "execution_count": 16,
     "metadata": {},
     "output_type": "execute_result"
    }
   ],
   "source": [
    "resSimul"
   ]
  },
  {
   "cell_type": "code",
   "execution_count": 17,
   "metadata": {},
   "outputs": [],
   "source": [
    "resSimul = 0 \n",
    "population.generatePopulations(100,700)"
   ]
  },
  {
   "cell_type": "code",
   "execution_count": 18,
   "metadata": {},
   "outputs": [],
   "source": [
    "for i in sits :\n",
    "    resSimul+=population.getProbGenerations(i)"
   ]
  },
  {
   "cell_type": "code",
   "execution_count": 19,
   "metadata": {},
   "outputs": [
    {
     "data": {
      "text/plain": [
       "0.0"
      ]
     },
     "execution_count": 19,
     "metadata": {},
     "output_type": "execute_result"
    }
   ],
   "source": [
    "resSimul"
   ]
  },
  {
   "cell_type": "code",
   "execution_count": null,
   "metadata": {},
   "outputs": [],
   "source": []
  },
  {
   "cell_type": "markdown",
   "metadata": {},
   "source": [
    "from here we will see how to use the class"
   ]
  },
  {
   "cell_type": "code",
   "execution_count": null,
   "metadata": {},
   "outputs": [],
   "source": []
  },
  {
   "cell_type": "code",
   "execution_count": 20,
   "metadata": {},
   "outputs": [],
   "source": [
    "a = Population([-1 , 0 , 2],[1/4,1/2,1/4])"
   ]
  },
  {
   "cell_type": "code",
   "execution_count": 21,
   "metadata": {},
   "outputs": [],
   "source": [
    "res,strRes = a.computeProb([700,0,0])"
   ]
  },
  {
   "cell_type": "code",
   "execution_count": 22,
   "metadata": {},
   "outputs": [],
   "source": [
    "a.generatePopulations(10,1)"
   ]
  },
  {
   "cell_type": "code",
   "execution_count": 23,
   "metadata": {},
   "outputs": [
    {
     "name": "stdout",
     "output_type": "stream",
     "text": [
      "['2']\n",
      "['0']\n",
      "['-1']\n",
      "['0']\n",
      "['0']\n",
      "['0']\n",
      "['2']\n",
      "['-1']\n",
      "['0']\n",
      "['-1']\n",
      "['-1 0', '0 0', '2 1']\n",
      "['-1 0', '0 1', '2 0']\n",
      "['-1 1', '0 0', '2 0']\n",
      "['-1 0', '0 1', '2 0']\n",
      "['-1 0', '0 1', '2 0']\n",
      "['-1 0', '0 1', '2 0']\n",
      "['-1 0', '0 0', '2 1']\n",
      "['-1 1', '0 0', '2 0']\n",
      "['-1 0', '0 1', '2 0']\n",
      "['-1 1', '0 0', '2 0']\n"
     ]
    }
   ],
   "source": [
    "a.printGenerations()"
   ]
  },
  {
   "cell_type": "code",
   "execution_count": 24,
   "metadata": {},
   "outputs": [
    {
     "data": {
      "text/plain": [
       "0.3"
      ]
     },
     "execution_count": 24,
     "metadata": {},
     "output_type": "execute_result"
    }
   ],
   "source": [
    "a.getProbGenerations([1,0,0])"
   ]
  },
  {
   "cell_type": "code",
   "execution_count": 25,
   "metadata": {},
   "outputs": [],
   "source": [
    "res, strRes = a.computeProb([1,0,1])"
   ]
  },
  {
   "cell_type": "code",
   "execution_count": 26,
   "metadata": {},
   "outputs": [
    {
     "name": "stdout",
     "output_type": "stream",
     "text": [
      "0.125\n",
      "c( 2 , 1 ) * ( 0.25 ) ^ 1 * c( 1 , 0 ) * ( 0.5 ) ^ 0 * c( 1 , 1 ) * ( 0.25 ) ^ 1\n"
     ]
    }
   ],
   "source": [
    "print(res)\n",
    "print(strRes)"
   ]
  },
  {
   "cell_type": "code",
   "execution_count": 49,
   "metadata": {},
   "outputs": [],
   "source": [
    "def getFunc(population1, howMany1 = 700, sumExcpected1 = -700):\n",
    "    res1 = 0\n",
    "    sits1 = []\n",
    "    setSeen1 = set()\n",
    "    for i in range(howMany1+1):\n",
    "        for j in range(howMany1+1-i):\n",
    "            z = howMany1-i-j\n",
    "            perm = set(permutations([i,j,z]))\n",
    "            for per in perm:\n",
    "                resSum = 0\n",
    "                boolean = False\n",
    "                if(per in setSeen1):\n",
    "                    continue\n",
    "                setSeen1.add(per)\n",
    "                for d in range(len(per)):\n",
    "                    resSum += _domain[d]*per[d]\n",
    "                if(resSum==sumExcpected1):\n",
    "                    boolean = True\n",
    "                    resTemp,resStringTemp = population.computeProb(per)\n",
    "                    res1+=resTemp\n",
    "                    sits1.append(per)\n",
    "    return res1"
   ]
  },
  {
   "cell_type": "code",
   "execution_count": 52,
   "metadata": {},
   "outputs": [],
   "source": [
    "results = dict()"
   ]
  },
  {
   "cell_type": "code",
   "execution_count": 53,
   "metadata": {
    "scrolled": true
   },
   "outputs": [
    {
     "name": "stdout",
     "output_type": "stream",
     "text": [
      "-700\n",
      "-600\n",
      "-500\n",
      "-400\n",
      "-300\n",
      "-200\n",
      "-100\n",
      "0\n",
      "100\n",
      "200\n",
      "300\n",
      "400\n",
      "500\n",
      "600\n",
      "700\n",
      "800\n",
      "900\n",
      "1000\n",
      "1100\n",
      "1200\n",
      "1300\n",
      "1400\n"
     ]
    }
   ],
   "source": [
    "for i in range(-700,1401):\n",
    "    if(i%100==0):\n",
    "        print(i)\n",
    "    res = getFunc(population,sumExcpected1=i)\n",
    "    results.update({i:res})"
   ]
  },
  {
   "cell_type": "code",
   "execution_count": 55,
   "metadata": {},
   "outputs": [],
   "source": [
    "listAnswers = []\n",
    "for i in range(-700,1401):\n",
    "    listAnswers.append([i,results[i]])\n",
    "    "
   ]
  },
  {
   "cell_type": "code",
   "execution_count": 72,
   "metadata": {},
   "outputs": [],
   "source": [
    "import pandas as pd"
   ]
  },
  {
   "cell_type": "code",
   "execution_count": 81,
   "metadata": {},
   "outputs": [],
   "source": [
    "listAnswers = np.array(listAnswers)"
   ]
  },
  {
   "cell_type": "code",
   "execution_count": 82,
   "metadata": {},
   "outputs": [
    {
     "data": {
      "text/plain": [
       "(2101, 2)"
      ]
     },
     "execution_count": 82,
     "metadata": {},
     "output_type": "execute_result"
    }
   ],
   "source": [
    "listAnswers.shape"
   ]
  },
  {
   "cell_type": "code",
   "execution_count": 88,
   "metadata": {},
   "outputs": [
    {
     "data": {
      "text/plain": [
       "array([[-700],\n",
       "       [-699],\n",
       "       [-698],\n",
       "       ...,\n",
       "       [1398],\n",
       "       [1399],\n",
       "       [1400]], dtype=object)"
      ]
     },
     "execution_count": 88,
     "metadata": {},
     "output_type": "execute_result"
    }
   ],
   "source": [
    "listAnswers[:,:1]"
   ]
  },
  {
   "cell_type": "code",
   "execution_count": 89,
   "metadata": {},
   "outputs": [
    {
     "data": {
      "text/plain": [
       "array([[mpf('3.6141491434385841e-422')],\n",
       "       [mpf('1.2649522002035044e-419')],\n",
       "       [mpf('2.210503969855624e-417')],\n",
       "       ...,\n",
       "       [mpf('1.8286903643424991e-141')],\n",
       "       [0],\n",
       "       [mpf('1.306207403101785e-143')]], dtype=object)"
      ]
     },
     "execution_count": 89,
     "metadata": {},
     "output_type": "execute_result"
    }
   ],
   "source": [
    "listAnswers[:,1:]"
   ]
  },
  {
   "cell_type": "code",
   "execution_count": 90,
   "metadata": {},
   "outputs": [],
   "source": [
    "df = pd.DataFrame(listAnswers[:,1:],index=listAnswers[:,:1])"
   ]
  },
  {
   "cell_type": "code",
   "execution_count": 91,
   "metadata": {},
   "outputs": [],
   "source": [
    "df.to_csv('savedForAmar.csv',header=False)"
   ]
  },
  {
   "cell_type": "code",
   "execution_count": 92,
   "metadata": {},
   "outputs": [
    {
     "data": {
      "text/html": [
       "<div>\n",
       "<style scoped>\n",
       "    .dataframe tbody tr th:only-of-type {\n",
       "        vertical-align: middle;\n",
       "    }\n",
       "\n",
       "    .dataframe tbody tr th {\n",
       "        vertical-align: top;\n",
       "    }\n",
       "\n",
       "    .dataframe thead th {\n",
       "        text-align: right;\n",
       "    }\n",
       "</style>\n",
       "<table border=\"1\" class=\"dataframe\">\n",
       "  <thead>\n",
       "    <tr style=\"text-align: right;\">\n",
       "      <th></th>\n",
       "      <th>0</th>\n",
       "    </tr>\n",
       "  </thead>\n",
       "  <tbody>\n",
       "    <tr>\n",
       "      <th>(-700,)</th>\n",
       "      <td>3.61414914343858e-422</td>\n",
       "    </tr>\n",
       "    <tr>\n",
       "      <th>(-699,)</th>\n",
       "      <td>1.2649522002035e-419</td>\n",
       "    </tr>\n",
       "    <tr>\n",
       "      <th>(-698,)</th>\n",
       "      <td>2.21050396985562e-417</td>\n",
       "    </tr>\n",
       "    <tr>\n",
       "      <th>(-697,)</th>\n",
       "      <td>2.57218542769881e-415</td>\n",
       "    </tr>\n",
       "    <tr>\n",
       "      <th>(-696,)</th>\n",
       "      <td>2.24267601305023e-413</td>\n",
       "    </tr>\n",
       "    <tr>\n",
       "      <th>(-695,)</th>\n",
       "      <td>1.56322132374734e-411</td>\n",
       "    </tr>\n",
       "    <tr>\n",
       "      <th>(-694,)</th>\n",
       "      <td>9.07613130354453e-410</td>\n",
       "    </tr>\n",
       "    <tr>\n",
       "      <th>(-693,)</th>\n",
       "      <td>4.51595597805476e-408</td>\n",
       "    </tr>\n",
       "    <tr>\n",
       "      <th>(-692,)</th>\n",
       "      <td>1.96620764759888e-406</td>\n",
       "    </tr>\n",
       "    <tr>\n",
       "      <th>(-691,)</th>\n",
       "      <td>7.6117688978513e-405</td>\n",
       "    </tr>\n",
       "    <tr>\n",
       "      <th>(-690,)</th>\n",
       "      <td>2.6534958938628e-403</td>\n",
       "    </tr>\n",
       "    <tr>\n",
       "      <th>(-689,)</th>\n",
       "      <td>8.41581226708733e-402</td>\n",
       "    </tr>\n",
       "    <tr>\n",
       "      <th>(-688,)</th>\n",
       "      <td>2.44919820660425e-400</td>\n",
       "    </tr>\n",
       "    <tr>\n",
       "      <th>(-687,)</th>\n",
       "      <td>6.58760537782536e-399</td>\n",
       "    </tr>\n",
       "    <tr>\n",
       "      <th>(-686,)</th>\n",
       "      <td>1.64771001917705e-397</td>\n",
       "    </tr>\n",
       "    <tr>\n",
       "      <th>(-685,)</th>\n",
       "      <td>3.85299567477469e-396</td>\n",
       "    </tr>\n",
       "    <tr>\n",
       "      <th>(-684,)</th>\n",
       "      <td>8.46263656043209e-395</td>\n",
       "    </tr>\n",
       "    <tr>\n",
       "      <th>(-683,)</th>\n",
       "      <td>1.75302928303992e-393</td>\n",
       "    </tr>\n",
       "    <tr>\n",
       "      <th>(-682,)</th>\n",
       "      <td>3.43746244507164e-392</td>\n",
       "    </tr>\n",
       "    <tr>\n",
       "      <th>(-681,)</th>\n",
       "      <td>6.40139489604884e-391</td>\n",
       "    </tr>\n",
       "    <tr>\n",
       "      <th>(-680,)</th>\n",
       "      <td>1.13548198100947e-389</td>\n",
       "    </tr>\n",
       "    <tr>\n",
       "      <th>(-679,)</th>\n",
       "      <td>1.92359935985627e-388</td>\n",
       "    </tr>\n",
       "    <tr>\n",
       "      <th>(-678,)</th>\n",
       "      <td>3.11984199826317e-387</td>\n",
       "    </tr>\n",
       "    <tr>\n",
       "      <th>(-677,)</th>\n",
       "      <td>4.85509348010307e-386</td>\n",
       "    </tr>\n",
       "    <tr>\n",
       "      <th>(-676,)</th>\n",
       "      <td>7.26428424893092e-385</td>\n",
       "    </tr>\n",
       "    <tr>\n",
       "      <th>(-675,)</th>\n",
       "      <td>1.04696154717937e-383</td>\n",
       "    </tr>\n",
       "    <tr>\n",
       "      <th>(-674,)</th>\n",
       "      <td>1.45599844257105e-382</td>\n",
       "    </tr>\n",
       "    <tr>\n",
       "      <th>(-673,)</th>\n",
       "      <td>1.95693744591998e-381</td>\n",
       "    </tr>\n",
       "    <tr>\n",
       "      <th>(-672,)</th>\n",
       "      <td>2.54578778861429e-380</td>\n",
       "    </tr>\n",
       "    <tr>\n",
       "      <th>(-671,)</th>\n",
       "      <td>3.20992488352314e-379</td>\n",
       "    </tr>\n",
       "    <tr>\n",
       "      <th>...</th>\n",
       "      <td>...</td>\n",
       "    </tr>\n",
       "    <tr>\n",
       "      <th>(1371,)</th>\n",
       "      <td>7.90044744203239e-122</td>\n",
       "    </tr>\n",
       "    <tr>\n",
       "      <th>(1372,)</th>\n",
       "      <td>1.96598097714194e-122</td>\n",
       "    </tr>\n",
       "    <tr>\n",
       "      <th>(1373,)</th>\n",
       "      <td>4.82247001836691e-123</td>\n",
       "    </tr>\n",
       "    <tr>\n",
       "      <th>(1374,)</th>\n",
       "      <td>1.16547672510347e-123</td>\n",
       "    </tr>\n",
       "    <tr>\n",
       "      <th>(1375,)</th>\n",
       "      <td>2.77351409085917e-124</td>\n",
       "    </tr>\n",
       "    <tr>\n",
       "      <th>(1376,)</th>\n",
       "      <td>6.49506900256256e-125</td>\n",
       "    </tr>\n",
       "    <tr>\n",
       "      <th>(1377,)</th>\n",
       "      <td>1.49590334107343e-125</td>\n",
       "    </tr>\n",
       "    <tr>\n",
       "      <th>(1378,)</th>\n",
       "      <td>3.38554791365699e-126</td>\n",
       "    </tr>\n",
       "    <tr>\n",
       "      <th>(1379,)</th>\n",
       "      <td>7.52476618099023e-127</td>\n",
       "    </tr>\n",
       "    <tr>\n",
       "      <th>(1380,)</th>\n",
       "      <td>1.64092208143243e-127</td>\n",
       "    </tr>\n",
       "    <tr>\n",
       "      <th>(1381,)</th>\n",
       "      <td>3.50704044364714e-128</td>\n",
       "    </tr>\n",
       "    <tr>\n",
       "      <th>(1382,)</th>\n",
       "      <td>7.34337569011297e-129</td>\n",
       "    </tr>\n",
       "    <tr>\n",
       "      <th>(1383,)</th>\n",
       "      <td>1.50280259495635e-129</td>\n",
       "    </tr>\n",
       "    <tr>\n",
       "      <th>(1384,)</th>\n",
       "      <td>3.00698760230362e-130</td>\n",
       "    </tr>\n",
       "    <tr>\n",
       "      <th>(1385,)</th>\n",
       "      <td>5.86898628180685e-131</td>\n",
       "    </tr>\n",
       "    <tr>\n",
       "      <th>(1386,)</th>\n",
       "      <td>1.11344104909552e-131</td>\n",
       "    </tr>\n",
       "    <tr>\n",
       "      <th>(1387,)</th>\n",
       "      <td>2.06602967847749e-132</td>\n",
       "    </tr>\n",
       "    <tr>\n",
       "      <th>(1388,)</th>\n",
       "      <td>3.67853579335932e-133</td>\n",
       "    </tr>\n",
       "    <tr>\n",
       "      <th>(1389,)</th>\n",
       "      <td>6.43436970437029e-134</td>\n",
       "    </tr>\n",
       "    <tr>\n",
       "      <th>(1390,)</th>\n",
       "      <td>1.07460607433813e-134</td>\n",
       "    </tr>\n",
       "    <tr>\n",
       "      <th>(1391,)</th>\n",
       "      <td>1.70592786390625e-135</td>\n",
       "    </tr>\n",
       "    <tr>\n",
       "      <th>(1392,)</th>\n",
       "      <td>2.78670573305466e-136</td>\n",
       "    </tr>\n",
       "    <tr>\n",
       "      <th>(1393,)</th>\n",
       "      <td>3.56888674457374e-137</td>\n",
       "    </tr>\n",
       "    <tr>\n",
       "      <th>(1394,)</th>\n",
       "      <td>6.45944640015972e-138</td>\n",
       "    </tr>\n",
       "    <tr>\n",
       "      <th>(1395,)</th>\n",
       "      <td>5.11301825870163e-139</td>\n",
       "    </tr>\n",
       "    <tr>\n",
       "      <th>(1396,)</th>\n",
       "      <td>1.27825456467541e-139</td>\n",
       "    </tr>\n",
       "    <tr>\n",
       "      <th>(1397,)</th>\n",
       "      <td>3.657380728685e-141</td>\n",
       "    </tr>\n",
       "    <tr>\n",
       "      <th>(1398,)</th>\n",
       "      <td>1.8286903643425e-141</td>\n",
       "    </tr>\n",
       "    <tr>\n",
       "      <th>(1399,)</th>\n",
       "      <td>0</td>\n",
       "    </tr>\n",
       "    <tr>\n",
       "      <th>(1400,)</th>\n",
       "      <td>1.30620740310179e-143</td>\n",
       "    </tr>\n",
       "  </tbody>\n",
       "</table>\n",
       "<p>2101 rows × 1 columns</p>\n",
       "</div>"
      ],
      "text/plain": [
       "                             0\n",
       "(-700,)  3.61414914343858e-422\n",
       "(-699,)   1.2649522002035e-419\n",
       "(-698,)  2.21050396985562e-417\n",
       "(-697,)  2.57218542769881e-415\n",
       "(-696,)  2.24267601305023e-413\n",
       "(-695,)  1.56322132374734e-411\n",
       "(-694,)  9.07613130354453e-410\n",
       "(-693,)  4.51595597805476e-408\n",
       "(-692,)  1.96620764759888e-406\n",
       "(-691,)   7.6117688978513e-405\n",
       "(-690,)   2.6534958938628e-403\n",
       "(-689,)  8.41581226708733e-402\n",
       "(-688,)  2.44919820660425e-400\n",
       "(-687,)  6.58760537782536e-399\n",
       "(-686,)  1.64771001917705e-397\n",
       "(-685,)  3.85299567477469e-396\n",
       "(-684,)  8.46263656043209e-395\n",
       "(-683,)  1.75302928303992e-393\n",
       "(-682,)  3.43746244507164e-392\n",
       "(-681,)  6.40139489604884e-391\n",
       "(-680,)  1.13548198100947e-389\n",
       "(-679,)  1.92359935985627e-388\n",
       "(-678,)  3.11984199826317e-387\n",
       "(-677,)  4.85509348010307e-386\n",
       "(-676,)  7.26428424893092e-385\n",
       "(-675,)  1.04696154717937e-383\n",
       "(-674,)  1.45599844257105e-382\n",
       "(-673,)  1.95693744591998e-381\n",
       "(-672,)  2.54578778861429e-380\n",
       "(-671,)  3.20992488352314e-379\n",
       "...                        ...\n",
       "(1371,)  7.90044744203239e-122\n",
       "(1372,)  1.96598097714194e-122\n",
       "(1373,)  4.82247001836691e-123\n",
       "(1374,)  1.16547672510347e-123\n",
       "(1375,)  2.77351409085917e-124\n",
       "(1376,)  6.49506900256256e-125\n",
       "(1377,)  1.49590334107343e-125\n",
       "(1378,)  3.38554791365699e-126\n",
       "(1379,)  7.52476618099023e-127\n",
       "(1380,)  1.64092208143243e-127\n",
       "(1381,)  3.50704044364714e-128\n",
       "(1382,)  7.34337569011297e-129\n",
       "(1383,)  1.50280259495635e-129\n",
       "(1384,)  3.00698760230362e-130\n",
       "(1385,)  5.86898628180685e-131\n",
       "(1386,)  1.11344104909552e-131\n",
       "(1387,)  2.06602967847749e-132\n",
       "(1388,)  3.67853579335932e-133\n",
       "(1389,)  6.43436970437029e-134\n",
       "(1390,)  1.07460607433813e-134\n",
       "(1391,)  1.70592786390625e-135\n",
       "(1392,)  2.78670573305466e-136\n",
       "(1393,)  3.56888674457374e-137\n",
       "(1394,)  6.45944640015972e-138\n",
       "(1395,)  5.11301825870163e-139\n",
       "(1396,)  1.27825456467541e-139\n",
       "(1397,)    3.657380728685e-141\n",
       "(1398,)   1.8286903643425e-141\n",
       "(1399,)                      0\n",
       "(1400,)  1.30620740310179e-143\n",
       "\n",
       "[2101 rows x 1 columns]"
      ]
     },
     "execution_count": 92,
     "metadata": {},
     "output_type": "execute_result"
    }
   ],
   "source": [
    "df"
   ]
  },
  {
   "cell_type": "code",
   "execution_count": null,
   "metadata": {},
   "outputs": [],
   "source": []
  }
 ],
 "metadata": {
  "kernelspec": {
   "display_name": "Python 3",
   "language": "python",
   "name": "python3"
  },
  "language_info": {
   "codemirror_mode": {
    "name": "ipython",
    "version": 3
   },
   "file_extension": ".py",
   "mimetype": "text/x-python",
   "name": "python",
   "nbconvert_exporter": "python",
   "pygments_lexer": "ipython3",
   "version": "3.6.4"
  }
 },
 "nbformat": 4,
 "nbformat_minor": 2
}
